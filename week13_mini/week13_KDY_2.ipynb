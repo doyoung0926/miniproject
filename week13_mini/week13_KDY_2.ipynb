{
 "cells": [
  {
   "cell_type": "markdown",
   "id": "cc028691",
   "metadata": {},
   "source": [
    "# 5조 김도영\n",
    "---\n",
    "## <주제>  가사 학습 후 장르 분류 (자연어 처리)"
   ]
  },
  {
   "cell_type": "markdown",
   "id": "d9171ee7",
   "metadata": {},
   "source": [
    "### 출처: 지니뮤직"
   ]
  },
  {
   "cell_type": "markdown",
   "id": "7043a1d5",
   "metadata": {},
   "source": [
    "## [1] 데이터 준비"
   ]
  },
  {
   "cell_type": "code",
   "execution_count": 1,
   "id": "7049db8a",
   "metadata": {},
   "outputs": [
    {
     "name": "stdout",
     "output_type": "stream",
     "text": [
      "총 샘플의 수 : 3990\n"
     ]
    }
   ],
   "source": [
    "# 파일 로딩\n",
    "import pandas as pd\n",
    "\n",
    "FILE = 'gasa.csv'\n",
    "df = pd.read_csv(FILE)\n",
    "print('총 샘플의 수 :', len(df))"
   ]
  },
  {
   "cell_type": "code",
   "execution_count": 2,
   "id": "1bae2614",
   "metadata": {},
   "outputs": [
    {
     "name": "stdout",
     "output_type": "stream",
     "text": [
      "<class 'pandas.core.frame.DataFrame'>\n",
      "RangeIndex: 3990 entries, 0 to 3989\n",
      "Data columns (total 2 columns):\n",
      " #   Column  Non-Null Count  Dtype \n",
      "---  ------  --------------  ----- \n",
      " 0   0       3988 non-null   object\n",
      " 1   1       3990 non-null   object\n",
      "dtypes: object(2)\n",
      "memory usage: 62.5+ KB\n"
     ]
    }
   ],
   "source": [
    "# 데이터 정보\n",
    "df.info()"
   ]
  },
  {
   "cell_type": "code",
   "execution_count": 3,
   "id": "7e214f64",
   "metadata": {
    "scrolled": false
   },
   "outputs": [
    {
     "data": {
      "text/html": [
       "<div>\n",
       "<style scoped>\n",
       "    .dataframe tbody tr th:only-of-type {\n",
       "        vertical-align: middle;\n",
       "    }\n",
       "\n",
       "    .dataframe tbody tr th {\n",
       "        vertical-align: top;\n",
       "    }\n",
       "\n",
       "    .dataframe thead th {\n",
       "        text-align: right;\n",
       "    }\n",
       "</style>\n",
       "<table border=\"1\" class=\"dataframe\">\n",
       "  <thead>\n",
       "    <tr style=\"text-align: right;\">\n",
       "      <th></th>\n",
       "      <th>0</th>\n",
       "      <th>1</th>\n",
       "    </tr>\n",
       "  </thead>\n",
       "  <tbody>\n",
       "    <tr>\n",
       "      <th>0</th>\n",
       "      <td>푸른 파도 갈매기도  정든 항구도 날이 새면 떠나간다 그리운 임을 두고서  못다한 ...</td>\n",
       "      <td>트로트</td>\n",
       "    </tr>\n",
       "    <tr>\n",
       "      <th>1</th>\n",
       "      <td>난이야 난이야 사랑을 모두 주고  울고 떠나갔나 바보구나  때 늦은 후회지만 너만은...</td>\n",
       "      <td>트로트</td>\n",
       "    </tr>\n",
       "    <tr>\n",
       "      <th>2</th>\n",
       "      <td>늦기전에 늦기전에   빨리 돌아와주오  내마음 모두 그대 생각 넘칠때  내마음 모두...</td>\n",
       "      <td>트로트</td>\n",
       "    </tr>\n",
       "    <tr>\n",
       "      <th>3</th>\n",
       "      <td>월남에서 돌아온   새까만 김상사   이제서 돌아 왔네  월남에서 돌아온   새까만...</td>\n",
       "      <td>트로트</td>\n",
       "    </tr>\n",
       "    <tr>\n",
       "      <th>4</th>\n",
       "      <td>1. 그리우면 왔다가 싫어지면 가버리는  당신의 이름은 무정한 철새    진정코 내...</td>\n",
       "      <td>트로트</td>\n",
       "    </tr>\n",
       "  </tbody>\n",
       "</table>\n",
       "</div>"
      ],
      "text/plain": [
       "                                                   0    1\n",
       "0  푸른 파도 갈매기도  정든 항구도 날이 새면 떠나간다 그리운 임을 두고서  못다한 ...  트로트\n",
       "1  난이야 난이야 사랑을 모두 주고  울고 떠나갔나 바보구나  때 늦은 후회지만 너만은...  트로트\n",
       "2  늦기전에 늦기전에   빨리 돌아와주오  내마음 모두 그대 생각 넘칠때  내마음 모두...  트로트\n",
       "3  월남에서 돌아온   새까만 김상사   이제서 돌아 왔네  월남에서 돌아온   새까만...  트로트\n",
       "4  1. 그리우면 왔다가 싫어지면 가버리는  당신의 이름은 무정한 철새    진정코 내...  트로트"
      ]
     },
     "execution_count": 3,
     "metadata": {},
     "output_type": "execute_result"
    }
   ],
   "source": [
    "# 데이터 확인\n",
    "df.head()"
   ]
  },
  {
   "cell_type": "markdown",
   "id": "432346a6",
   "metadata": {},
   "source": [
    "## [2] 데이터 전처리\n",
    "---"
   ]
  },
  {
   "cell_type": "markdown",
   "id": "04285cc7",
   "metadata": {},
   "source": [
    "### [2-1] 데이터 확인 및 1차 처리"
   ]
  },
  {
   "cell_type": "code",
   "execution_count": 4,
   "id": "28625e18",
   "metadata": {},
   "outputs": [],
   "source": [
    "# 전체 중에 OST, 재즈 삭제\n",
    "df = df.drop([792, 1240, 1292, 1312, 1351, 1387, 1590, 1883,\n",
    "              2047, 2146, 2284, 2542, 2900, 3976, 2218])"
   ]
  },
  {
   "cell_type": "code",
   "execution_count": 5,
   "id": "967ccd27",
   "metadata": {},
   "outputs": [
    {
     "data": {
      "text/plain": [
       "0    2\n",
       "1    0\n",
       "dtype: int64"
      ]
     },
     "execution_count": 5,
     "metadata": {},
     "output_type": "execute_result"
    }
   ],
   "source": [
    "# 결측치 체크\n",
    "df.isnull().sum()"
   ]
  },
  {
   "cell_type": "code",
   "execution_count": 6,
   "id": "c71e79f0",
   "metadata": {},
   "outputs": [],
   "source": [
    "# 결측치 행 체크 후 삭제\n",
    "df.iloc[:,0][df.iloc[:,0].isnull()]\n",
    "\n",
    "df = df.dropna(how='any', axis=0)"
   ]
  },
  {
   "cell_type": "code",
   "execution_count": 8,
   "id": "5aa85cc6",
   "metadata": {},
   "outputs": [
    {
     "name": "stdout",
     "output_type": "stream",
     "text": [
      "df 수 : 3973\n"
     ]
    }
   ],
   "source": [
    "print(f'df 수 : {len(df)}')"
   ]
  },
  {
   "cell_type": "code",
   "execution_count": 9,
   "id": "b743b57e",
   "metadata": {},
   "outputs": [
    {
     "data": {
      "text/plain": [
       "발라드       1094\n",
       "댄스         820\n",
       "트로트        543\n",
       "전체         294\n",
       "랩/힙합       281\n",
       "락          272\n",
       "블루스/포크     271\n",
       "R&B/소울     172\n",
       "드라마        135\n",
       "인디          62\n",
       "일렉트로니카      12\n",
       "한국영화         7\n",
       "국내CCM        4\n",
       "국악           3\n",
       "동요           2\n",
       "캐롤           1\n",
       "Name: 1, dtype: int64"
      ]
     },
     "execution_count": 9,
     "metadata": {},
     "output_type": "execute_result"
    }
   ],
   "source": [
    "# 데이터 분포 확인\n",
    "df['1'].value_counts()"
   ]
  },
  {
   "cell_type": "code",
   "execution_count": 10,
   "id": "cdd9c3bf",
   "metadata": {},
   "outputs": [],
   "source": [
    "# 필요한 장르(발라드,댄스,트로트,전체,랩/힙합,락)를 제외한 나머지 장르 삭제\n",
    "g1 = df['1'] == '발라드'\n",
    "g2 = df['1'] == '댄스'\n",
    "g3 = df['1'] == '트로트'\n",
    "g4 = df['1'] == '전체'\n",
    "g5 = df['1'] == '랩/힙합'\n",
    "g6 = df['1'] == '락'\n",
    "\n",
    "df = df[g1|g2|g3|g4|g5|g6]"
   ]
  },
  {
   "cell_type": "code",
   "execution_count": 11,
   "id": "4f8cde53",
   "metadata": {},
   "outputs": [],
   "source": [
    "df['1'][df['1'] == '전체'] = '가요'"
   ]
  },
  {
   "cell_type": "markdown",
   "id": "97986b95",
   "metadata": {},
   "source": [
    "발라드 -> 0  \n",
    "댄스 -> 1  \n",
    "트로트 -> 2  \n",
    "가요 -> 3  \n",
    "랩/힙합 -> 4  \n",
    "락 -> 5  "
   ]
  },
  {
   "cell_type": "code",
   "execution_count": 12,
   "id": "c79ae45b",
   "metadata": {},
   "outputs": [],
   "source": [
    "# 장르 문자 => 수치화\n",
    "df['1'] = df['1'].replace(['발라드','댄스','트로트','가요','랩/힙합','락'],\n",
    "                          [0,1,2,3,4,5])"
   ]
  },
  {
   "cell_type": "code",
   "execution_count": 13,
   "id": "211d729f",
   "metadata": {},
   "outputs": [],
   "source": [
    "# 타겟 int -> category 형변환\n",
    "df['1'] = df['1'].astype('category')"
   ]
  },
  {
   "cell_type": "code",
   "execution_count": 14,
   "id": "9d9af1b2",
   "metadata": {},
   "outputs": [],
   "source": [
    "# 타겟 데이터 원핫 인코딩\n",
    "from sklearn.preprocessing import OneHotEncoder"
   ]
  },
  {
   "cell_type": "code",
   "execution_count": 15,
   "id": "d21d2ea4",
   "metadata": {},
   "outputs": [],
   "source": [
    "target=df['1'].to_numpy()"
   ]
  },
  {
   "cell_type": "code",
   "execution_count": 16,
   "id": "d65c2b0a",
   "metadata": {},
   "outputs": [],
   "source": [
    "ohencoder = OneHotEncoder()\n",
    "ohencoder.fit(target.reshape(-1,1))\n",
    "target=ohencoder.transform(target.reshape(-1,1))"
   ]
  },
  {
   "cell_type": "code",
   "execution_count": 17,
   "id": "7434b40a",
   "metadata": {},
   "outputs": [],
   "source": [
    "target=target.toarray()"
   ]
  },
  {
   "cell_type": "code",
   "execution_count": 19,
   "id": "eac74833",
   "metadata": {
    "scrolled": false
   },
   "outputs": [
    {
     "name": "stdout",
     "output_type": "stream",
     "text": [
      "발라드 : 33.1%\n",
      "댄스 : 24.8%\n",
      "트로트 : 16.4%\n",
      "가요 : 8.9%\n",
      "랩/힙합 : 8.5%\n",
      "락 : 8.2%\n"
     ]
    }
   ],
   "source": [
    "# 데이터 분포 확인\n",
    "vc=df['1'].value_counts()\n",
    "\n",
    "print(f'발라드 : {round(vc[0]*100/df.shape[0],1)}%')\n",
    "print(f'댄스 : {round(vc[1]*100/df.shape[0],1)}%')\n",
    "print(f'트로트 : {round(vc[2]*100/df.shape[0],1)}%')\n",
    "print(f'가요 : {round(vc[3]*100/df.shape[0],1)}%')\n",
    "print(f'랩/힙합 : {round(vc[4]*100/df.shape[0],1)}%')\n",
    "print(f'락 : {round(vc[5]*100/df.shape[0],1)}%')"
   ]
  },
  {
   "cell_type": "markdown",
   "id": "185d896c",
   "metadata": {},
   "source": [
    "### [2-2] 훈련/테스트/검증 데이터 준비\n",
    "---"
   ]
  },
  {
   "cell_type": "code",
   "execution_count": 20,
   "id": "b6647d90",
   "metadata": {},
   "outputs": [],
   "source": [
    "from sklearn.model_selection import train_test_split"
   ]
  },
  {
   "cell_type": "code",
   "execution_count": 21,
   "id": "4cc491f7",
   "metadata": {},
   "outputs": [
    {
     "name": "stdout",
     "output_type": "stream",
     "text": [
      "x_train : (2643,), x_test : (661,)\n"
     ]
    }
   ],
   "source": [
    "# target 비율에 맞게 학습/테스트 데이터 분할\n",
    "x_train, x_test, y_train, y_test=train_test_split(df['0'],\n",
    "                                                  target,\n",
    "                                                  test_size=0.2,\n",
    "                                                  stratify=target,\n",
    "                                                  random_state=42)\n",
    "\n",
    "print(f'x_train : {x_train.shape}, x_test : {x_test.shape}')"
   ]
  },
  {
   "cell_type": "code",
   "execution_count": 22,
   "id": "da9313fb",
   "metadata": {},
   "outputs": [
    {
     "name": "stdout",
     "output_type": "stream",
     "text": [
      "x_train : (2114,), x_test : (661,), x_val : (529,)\n"
     ]
    }
   ],
   "source": [
    "# 검증 데이터 분할\n",
    "x_train, x_val, y_train, y_val=train_test_split(x_train,\n",
    "                                                y_train,\n",
    "                                                test_size=0.2,\n",
    "                                                stratify=y_train,\n",
    "                                                random_state=42)\n",
    "print(f'x_train : {x_train.shape}, x_test : {x_test.shape}, x_val : {x_val.shape}')"
   ]
  },
  {
   "cell_type": "markdown",
   "id": "1a83e844",
   "metadata": {},
   "source": [
    "### [2-3] 불용어 제거\n",
    "---"
   ]
  },
  {
   "cell_type": "code",
   "execution_count": 24,
   "id": "26846467",
   "metadata": {},
   "outputs": [],
   "source": [
    "import nltk\n",
    "from nltk.tokenize import sent_tokenize, word_tokenize\n",
    "from tensorflow.keras.preprocessing.text import Tokenizer"
   ]
  },
  {
   "cell_type": "code",
   "execution_count": 25,
   "id": "9b3a2e46",
   "metadata": {},
   "outputs": [],
   "source": [
    "_tokenizer = Tokenizer()\n",
    "_tokenizer.fit_on_texts(x_train)\n",
    "\n",
    "# Value 기준 정렬(내림차순)\n",
    "sorted(_tokenizer.word_counts.items(), key=lambda x: x[1], reverse=True)"
   ]
  },
  {
   "cell_type": "code",
   "execution_count": 28,
   "id": "54f6b5e3",
   "metadata": {},
   "outputs": [],
   "source": [
    "# 불용어 파일 로딩\n",
    "fireDF=pd.read_csv('fire.txt', header=None)\n",
    "fireList=fireDF[0].tolist()"
   ]
  },
  {
   "cell_type": "code",
   "execution_count": 29,
   "id": "73029a13",
   "metadata": {},
   "outputs": [],
   "source": [
    "# 불용어 제거\n",
    "wordToken=[]\n",
    "for n in x_train:\n",
    "    word=word_tokenize(n)\n",
    "    if word not in fireList:\n",
    "        wordToken.extend(word)"
   ]
  },
  {
   "cell_type": "code",
   "execution_count": 30,
   "id": "d30404e2",
   "metadata": {},
   "outputs": [],
   "source": [
    "# '?' 제거\n",
    "cnt=0\n",
    "for i in wordToken:\n",
    "    if i == '?':\n",
    "        cnt += 1\n",
    "        \n",
    "for _ in range(cnt):\n",
    "    wordToken.remove('?')"
   ]
  },
  {
   "cell_type": "markdown",
   "id": "5215a709",
   "metadata": {},
   "source": [
    "### [2-4] 데이터 벡터화"
   ]
  },
  {
   "cell_type": "code",
   "execution_count": 31,
   "id": "ce10e3f7",
   "metadata": {},
   "outputs": [],
   "source": [
    "from tensorflow.keras.preprocessing.text import Tokenizer"
   ]
  },
  {
   "cell_type": "code",
   "execution_count": 32,
   "id": "807a10bd",
   "metadata": {},
   "outputs": [],
   "source": [
    "_tokenizer = Tokenizer()"
   ]
  },
  {
   "cell_type": "code",
   "execution_count": 33,
   "id": "e0e119a3",
   "metadata": {},
   "outputs": [],
   "source": [
    "_tokenizer.fit_on_texts(wordToken)  # 단어사전(voca) 생성"
   ]
  },
  {
   "cell_type": "code",
   "execution_count": 34,
   "id": "dfd5ce6f",
   "metadata": {},
   "outputs": [
    {
     "name": "stdout",
     "output_type": "stream",
     "text": [
      "전체 단어 수 : 45194\n"
     ]
    }
   ],
   "source": [
    "print(f'전체 단어 수 : {len(_tokenizer.word_index)}')"
   ]
  },
  {
   "cell_type": "code",
   "execution_count": 35,
   "id": "91ef457a",
   "metadata": {},
   "outputs": [
    {
     "name": "stdout",
     "output_type": "stream",
     "text": [
      "전체 단어 빈도 수 : 329857\n"
     ]
    }
   ],
   "source": [
    "print(f'전체 단어 빈도 수 : {sum(_tokenizer.word_counts.values())}')"
   ]
  },
  {
   "cell_type": "code",
   "execution_count": 36,
   "id": "bda3c667",
   "metadata": {},
   "outputs": [
    {
     "name": "stdout",
     "output_type": "stream",
     "text": [
      "등장 빈도 낮은 단어 수(9회 미만) : 40434\n",
      "단어 사전 단어 수 : 4761\n"
     ]
    }
   ],
   "source": [
    "low_cnt = 0\n",
    "for value in _tokenizer.word_counts.values():\n",
    "    freq = 9   # freq보다 빈도 수가 낮은 단어 수 카운트\n",
    "    if value < freq:\n",
    "        low_cnt += 1\n",
    "\n",
    "voca_num = len(_tokenizer.word_index) - low_cnt + 1  # 패딩 0추가\n",
    "print(f'등장 빈도 낮은 단어 수({freq}회 미만) : {low_cnt}')\n",
    "print(f'단어 사전 단어 수 : {voca_num}')"
   ]
  },
  {
   "cell_type": "code",
   "execution_count": 37,
   "id": "740fbe2d",
   "metadata": {
    "scrolled": true
   },
   "outputs": [
    {
     "name": "stdout",
     "output_type": "stream",
     "text": [
      "전체 단어 수 : 45194\n"
     ]
    }
   ],
   "source": [
    "# 지정된 단어사전 단어 수로 데이터 수치화\n",
    "tokenizer = Tokenizer(num_words=voca_num)\n",
    "tokenizer.fit_on_texts(wordToken)\n",
    "print(f'전체 단어 수 : {len(tokenizer.word_index)}')"
   ]
  },
  {
   "cell_type": "code",
   "execution_count": 38,
   "id": "b56f491d",
   "metadata": {},
   "outputs": [],
   "source": [
    "# 문장을 생성된 사전(vaca)를 기반으로 정수 수치화\n",
    "seq_train=tokenizer.texts_to_sequences(x_train)\n",
    "seq_test=tokenizer.texts_to_sequences(x_test)\n",
    "seq_val=tokenizer.texts_to_sequences(x_val)"
   ]
  },
  {
   "cell_type": "markdown",
   "id": "b2d3e368",
   "metadata": {},
   "source": [
    "### [2-5] 데이터 길이 설정\n",
    "---\n",
    "- 길이 조절 => 패딩(Padding)"
   ]
  },
  {
   "cell_type": "code",
   "execution_count": 61,
   "id": "ab643fe7",
   "metadata": {},
   "outputs": [
    {
     "data": {
      "image/png": "[encoded data removed]",
      "text/plain": [
       "<Figure size 432x288 with 1 Axes>"
      ]
     },
     "metadata": {
      "needs_background": "light"
     },
     "output_type": "display_data"
    }
   ],
   "source": [
    "# 전체 데이터의 길이 시각화\n",
    "length=[len(data) for data in seq_train]\n",
    "\n",
    "import matplotlib.pyplot as plt\n",
    "import numpy as np\n",
    "plt.hist(length, bins=30)\n",
    "plt.plot([250, 250], [0, 250], c='red', linestyle='--', linewidth=2)\n",
    "plt.title(f'Max-{max(length)}, Min-{min(length)}, AVG-{round(np.mean(length))}')\n",
    "plt.xlabel('data length')\n",
    "plt.ylabel('data number')\n",
    "plt.show()"
   ]
  },
  {
   "cell_type": "code",
   "execution_count": 40,
   "id": "3480c5d2",
   "metadata": {},
   "outputs": [],
   "source": [
    "# 데이터 길이 변경\n",
    "from tensorflow.keras.preprocessing.sequence import pad_sequences\n",
    "pad_length=250   # 한 데이터의 토큰(단어) 수\n",
    "\n",
    "x_train = pad_sequences(seq_train, maxlen=pad_length)\n",
    "x_test = pad_sequences(seq_test, maxlen=pad_length)\n",
    "x_val = pad_sequences(seq_val, maxlen=pad_length)"
   ]
  },
  {
   "cell_type": "code",
   "execution_count": 41,
   "id": "4ec18742",
   "metadata": {
    "scrolled": true
   },
   "outputs": [
    {
     "name": "stdout",
     "output_type": "stream",
     "text": [
      "x_train : (2114, 250), x_test : (661, 250), x_val : (529, 250)\n",
      "y_train : (2114, 6), y_test : (661, 6), y_val : (529, 6)\n"
     ]
    }
   ],
   "source": [
    "print(f'x_train : {x_train.shape}, x_test : {x_test.shape}, x_val : {x_val.shape}')\n",
    "print(f'y_train : {y_train.shape}, y_test : {y_test.shape}, y_val : {y_val.shape}')"
   ]
  },
  {
   "cell_type": "markdown",
   "id": "4fe3c13d",
   "metadata": {},
   "source": [
    "## [3] Model 구성 및 구현\n",
    "---\n",
    "- 목표 : 노래 가사 분석 후 장르 분류\n",
    "- 데이터 : 수치화된 벡터 데이터\n",
    "\n",
    "#### Embedding RNN Model\n",
    "---\n",
    "- One-Hot-Encoding 입력 데이터의 많은 메모리 소모에 대한 문제 해결\n",
    "- 토큰을 밀집형태의 벡터로 변경 => Word Embedding\n",
    "- Embedding Layer 적용\n",
    "    - 입력 차원 - 토큰의 크기 즉 단어사전의 크기\n",
    "    - 출력 차원 - 줄여서 생성하는 벡터 크기\n",
    "    - 입력 층일 경우 -> input_dim = 타임스템프 즉 하나의 문장을 구성하는 토큰 수"
   ]
  },
  {
   "cell_type": "code",
   "execution_count": 42,
   "id": "126d8bb1",
   "metadata": {},
   "outputs": [],
   "source": [
    "from tensorflow.keras.layers import SimpleRNN, Embedding, Dense, GRU, Dropout\n",
    "from tensorflow.keras.models import Sequential\n",
    "from tensorflow.keras.utils import plot_model"
   ]
  },
  {
   "cell_type": "markdown",
   "id": "9aed46f9",
   "metadata": {},
   "source": [
    "### [3-1] 모델 구성\n",
    "---"
   ]
  },
  {
   "cell_type": "code",
   "execution_count": 43,
   "id": "945a21ee",
   "metadata": {},
   "outputs": [],
   "source": [
    "EMB_DIM = 96                # 임베딩 벡터 크기\n",
    "WORD_NUM = voca_num         # 단어 사전 단어 수\n",
    "HIDDEN_NODE = 32            # 은닉층 뉴런 수\n",
    "INPUT_LENGTH = pad_length   # 한 문장의 토큰 수"
   ]
  },
  {
   "cell_type": "code",
   "execution_count": 44,
   "id": "60aa44ae",
   "metadata": {},
   "outputs": [
    {
     "name": "stdout",
     "output_type": "stream",
     "text": [
      "Model: \"sequential\"\n",
      "_________________________________________________________________\n",
      " Layer (type)                Output Shape              Param #   \n",
      "=================================================================\n",
      " embedding (Embedding)       (None, 250, 96)           457056    \n",
      "                                                                 \n",
      " simple_rnn (SimpleRNN)      (None, 32)                4128      \n",
      "                                                                 \n",
      " dense (Dense)               (None, 64)                2112      \n",
      "                                                                 \n",
      " dense_1 (Dense)             (None, 32)                2080      \n",
      "                                                                 \n",
      " dense_2 (Dense)             (None, 6)                 198       \n",
      "                                                                 \n",
      "=================================================================\n",
      "Total params: 465,574\n",
      "Trainable params: 465,574\n",
      "Non-trainable params: 0\n",
      "_________________________________________________________________\n"
     ]
    }
   ],
   "source": [
    "model = Sequential()\n",
    "# One-Hot-Encoding WORD_NUM의 거대한 데이터 => 밀집형태 EMB_DIM 크기 벡터로 변환\n",
    "model.add(Embedding(WORD_NUM, EMB_DIM, input_length=INPUT_LENGTH))\n",
    "model.add(SimpleRNN(HIDDEN_NODE))\n",
    "model.add(Dense(64, activation='relu'))\n",
    "model.add(Dense(32, activation='relu'))\n",
    "model.add(Dense(6, activation='softmax'))\n",
    "\n",
    "model.summary()"
   ]
  },
  {
   "cell_type": "code",
   "execution_count": 45,
   "id": "811abebb",
   "metadata": {},
   "outputs": [
    {
     "data": {
      "image/png": "[encoded data removed]",
      "text/plain": [
       "<IPython.core.display.Image object>"
      ]
     },
     "execution_count": 45,
     "metadata": {},
     "output_type": "execute_result"
    }
   ],
   "source": [
    "plot_model(model, show_shapes=True)"
   ]
  },
  {
   "cell_type": "markdown",
   "id": "41dad40d",
   "metadata": {},
   "source": [
    "### [3-2] 모델 생성\n",
    "---\n",
    "- 손실함수, 최적화방법, 평가항목 => compile()"
   ]
  },
  {
   "cell_type": "code",
   "execution_count": 46,
   "id": "25e064a6",
   "metadata": {},
   "outputs": [],
   "source": [
    "model.compile(loss='categorical_crossentropy',\n",
    "              optimizer='adam',\n",
    "              metrics='accuracy')"
   ]
  },
  {
   "cell_type": "markdown",
   "id": "524f81c7",
   "metadata": {},
   "source": [
    "### [3-3] 학습\n",
    "---\n",
    "- train 데이터와 타겟으로 학습 진행\n",
    "- epoch마다 검증 진행 => validation_data, validation_split\n",
    "- 학습 중 이벤트 처리 => callbacks=[]\n",
    "- 학습 진행 내용 출력 설정 => verbose\n",
    "- 학습 횟수 설정 => epochs\n",
    "- 학습 분량 설정 => batch_size (기본:32)"
   ]
  },
  {
   "cell_type": "code",
   "execution_count": 47,
   "id": "fd888874",
   "metadata": {},
   "outputs": [],
   "source": [
    "from tensorflow.keras.callbacks import EarlyStopping"
   ]
  },
  {
   "cell_type": "code",
   "execution_count": 48,
   "id": "755021c6",
   "metadata": {},
   "outputs": [],
   "source": [
    "# 검증 데이터에 대한 loss값 5번 연속 개선되지 않으면 학습 중지\n",
    "stopCB = EarlyStopping(monitor='val_loss', patience=5)"
   ]
  },
  {
   "cell_type": "code",
   "execution_count": 49,
   "id": "cca48d41",
   "metadata": {
    "scrolled": false
   },
   "outputs": [
    {
     "name": "stdout",
     "output_type": "stream",
     "text": [
      "Epoch 1/20\n",
      "34/34 [==============================] - 4s 81ms/step - loss: 1.6521 - accuracy: 0.3292 - val_loss: 1.5669 - val_accuracy: 0.3270\n",
      "Epoch 2/20\n",
      "34/34 [==============================] - 2s 68ms/step - loss: 1.3786 - accuracy: 0.4929 - val_loss: 1.5098 - val_accuracy: 0.3932\n",
      "Epoch 3/20\n",
      "34/34 [==============================] - 2s 68ms/step - loss: 1.1369 - accuracy: 0.6060 - val_loss: 1.4150 - val_accuracy: 0.5009\n",
      "Epoch 4/20\n",
      "34/34 [==============================] - 2s 67ms/step - loss: 0.8659 - accuracy: 0.6982 - val_loss: 1.6504 - val_accuracy: 0.4348\n",
      "Epoch 5/20\n",
      "34/34 [==============================] - 2s 66ms/step - loss: 0.5877 - accuracy: 0.7947 - val_loss: 1.5422 - val_accuracy: 0.5161\n",
      "Epoch 6/20\n",
      "34/34 [==============================] - 2s 64ms/step - loss: 0.3543 - accuracy: 0.8827 - val_loss: 1.7147 - val_accuracy: 0.5028\n",
      "Epoch 7/20\n",
      "34/34 [==============================] - 2s 64ms/step - loss: 0.1853 - accuracy: 0.9565 - val_loss: 1.8312 - val_accuracy: 0.4934\n",
      "Epoch 8/20\n",
      "34/34 [==============================] - 2s 68ms/step - loss: 0.0863 - accuracy: 0.9844 - val_loss: 1.9876 - val_accuracy: 0.4915\n"
     ]
    }
   ],
   "source": [
    "his = model.fit(x_train,\n",
    "                y_train,\n",
    "                epochs=20,\n",
    "                batch_size=64,\n",
    "                validation_data=(x_val, y_val),\n",
    "                callbacks=[stopCB])"
   ]
  },
  {
   "cell_type": "code",
   "execution_count": 50,
   "id": "6ff42c20",
   "metadata": {},
   "outputs": [
    {
     "data": {
      "image/png": "[encoded data removed]",
      "text/plain": [
       "<Figure size 1080x720 with 2 Axes>"
      ]
     },
     "metadata": {
      "needs_background": "light"
     },
     "output_type": "display_data"
    }
   ],
   "source": [
    "# loss, accuracy 시각화\n",
    "plt.figure(figsize=(15,10))\n",
    "plt.subplot(121)\n",
    "plt.plot(his.epoch, his.history['loss'], label='Train loss', linewidth=3)\n",
    "plt.plot(his.epoch, his.history['val_loss'], label='Validation loss', color='tomato', linewidth=3)\n",
    "plt.xlabel('epochs', fontsize=20)\n",
    "plt.ylabel('loss', fontsize=20)\n",
    "plt.legend()\n",
    "\n",
    "plt.subplot(122)\n",
    "plt.plot(his.epoch, his.history['accuracy'], label='Train accuracy', linewidth=3)\n",
    "plt.plot(his.epoch, his.history['val_accuracy'], label='Validation accuracy', color='tomato', linewidth=3)\n",
    "plt.xlabel('epochs', fontsize=20)\n",
    "plt.ylabel('accuracy', fontsize=20)\n",
    "plt.legend()\n",
    "\n",
    "plt.tight_layout()\n",
    "plt.show()"
   ]
  },
  {
   "cell_type": "markdown",
   "id": "22602be0",
   "metadata": {},
   "source": [
    "### [3-4] 모델 평가\n",
    "---\n",
    "- evaluate() 메서드\n",
    "- 반환값 : loss, compile()의 metrics에서 설정된 항목값"
   ]
  },
  {
   "cell_type": "code",
   "execution_count": 51,
   "id": "a59f1fac",
   "metadata": {
    "scrolled": true
   },
   "outputs": [
    {
     "name": "stdout",
     "output_type": "stream",
     "text": [
      "21/21 [==============================] - 0s 11ms/step - loss: 2.0208 - accuracy: 0.5008\n"
     ]
    },
    {
     "data": {
      "text/plain": [
       "[2.020841598510742, 0.5007564425468445]"
      ]
     },
     "execution_count": 51,
     "metadata": {},
     "output_type": "execute_result"
    }
   ],
   "source": [
    "model.evaluate(x_test, y_test)"
   ]
  },
  {
   "cell_type": "markdown",
   "id": "eb44c001",
   "metadata": {},
   "source": [
    "### [3-5] 예측\n",
    "---\n",
    "- 새로운 데이터"
   ]
  },
  {
   "cell_type": "code",
   "execution_count": 70,
   "id": "1005a388",
   "metadata": {},
   "outputs": [],
   "source": [
    "txt='''뭐하고 있었니 늦었지만\n",
    "잠시 나올래\n",
    "너의 집 골목에 있는\n",
    "놀이터에 앉아 있어 \n",
    "친구들 만나서 오랜만에 \n",
    "술을 좀 했는데 \n",
    "자꾸만 니 얼굴 떠올라 \n",
    "무작정 달려왔어 \n",
    "이 맘 모르겠니 \n",
    "요즘 난 미친 사람처럼 \n",
    "너만 생각해 \n",
    "대책없이 네가 점점 좋아져 \n",
    "아냐 안 취했어 진짜야 \n",
    "널 정말 사랑해 \n",
    "눈물이 날만큼 원하고 있어\n",
    "정말로 몰랐니\n",
    "가끔 전화해 장난치듯 \n",
    "주말엔 뭐할거냐며\n",
    "너의 관심 끌던 나를 \n",
    "그리고 한번씩 누나 주려 샀는데\n",
    "너 그냥 준다고\n",
    "생색 낸 선물도 너 때문에 산거야\n",
    "이 맘 모르겠니\n",
    "요즘 난 미친 사람처럼 \n",
    "너만 생각해 \n",
    "대책없이 네가 점점 좋아져 \n",
    "아냐 안 취했어 진짜야 \n",
    "널 정말 사랑해 \n",
    "진심이야 믿어줘 \n",
    "갑자기 이런 말 놀랐다면 미안해 \n",
    "부담이 되는게 당연해 \n",
    "이해해 널 \n",
    "하지만 내 고백도 이해해 주겠니 oh\n",
    "지금 당장 대답하진마\n",
    "나와 일주일만 사귀어줄래 \n",
    "후회없이 잘 해주고 싶은데 \n",
    "그 후에도 니가 싫다면 \n",
    "나 그때 포기할게\n",
    "귀찮게 안할게 혼자 아플게 \n",
    "진심이야 너를 사랑하고 있어'''"
   ]
  },
  {
   "cell_type": "code",
   "execution_count": 71,
   "id": "de2a69ff",
   "metadata": {},
   "outputs": [],
   "source": [
    "txt1='''You and me\n",
    "내 맘이 보이지 \n",
    "한참을 쳐다봐\n",
    "가까이 다가가\n",
    "You see\n",
    "You see, ey ey ey ey\n",
    "\n",
    "One, two, three\n",
    "용기가 생겼지\n",
    "이미 아는 네 눈치\n",
    "고개를 돌려 천천히\n",
    "여기\n",
    "You see\n",
    "여기 보이니\n",
    "\n",
    "Looking for attention 너야겠어\n",
    "확실하게 나로 만들겠어\n",
    "Stop, eyyy\n",
    "Drop the question\n",
    "Drop the, drop the question\n",
    "Want attention\n",
    "Wanna want attention\n",
    "\n",
    "You give me butterflies you know\n",
    "내 맘은 온통 paradise\n",
    "꿈에서 깨워주지 마\n",
    "\n",
    "You got me looking for attention\n",
    "You got me looking for attention\n",
    "가끔은 정말\n",
    "헷갈리지만\n",
    "분명한 건\n",
    "Got me looking for attention\n",
    "\n",
    "널 우연히 마주친 척할래\n",
    "못 본 척 지나갈래\n",
    "You’re so fine\n",
    "Gotta gotta get to know ya\n",
    "나와 나와 걸어가 줘\n",
    "\n",
    "지금 돌아서면\n",
    "I need ya, need ya, need ya\n",
    "To look at me back\n",
    "Hey 다 들켰었나\n",
    "널 보면 하트가 튀어나와\n",
    "\n",
    "난 사탕을 찾는 baby (baby)\n",
    "내 맘은 설레이지\n",
    "Eyyy, drop the question\n",
    "Drop the, drop the question\n",
    "Want attention\n",
    "Wanna want attention\n",
    "\n",
    "You give me butterflies you know\n",
    "내 맘은 온통 paradise\n",
    "꿈에서 깨워주지 마\n",
    "\n",
    "You got me looking for attention\n",
    "You got me looking for attention\n",
    "가끔은 정말\n",
    "헷갈리지만\n",
    "분명한 건\n",
    "Got me looking for attention\n",
    "\n",
    "You got me looking for attention\n",
    "You got me looking for attention\n",
    "가끔은 정말\n",
    "헷갈리지만\n",
    "분명한 건\n",
    "Got me looking for attention\n",
    "\n",
    "A T T E N T I on\n",
    "Attention is what I want\n",
    "A T T E N T I on\n",
    "Attention is what I want\n",
    "A T T E N T I on\n",
    "Attention is what I want\n",
    "A T T E N T I on\n",
    "You got me looking for attention'''"
   ]
  },
  {
   "cell_type": "code",
   "execution_count": 72,
   "id": "b1ed8749",
   "metadata": {},
   "outputs": [],
   "source": [
    "txt2='''아 당신은 못 믿을 사람 \n",
    "아 당신은 철없는 사람 \n",
    "아무리 달래봐도 어쩔 순 없지만\n",
    "마음 하나는 괜찮은 사람\n",
    "오늘은 들국화\n",
    "또 내일은 장미꽃\n",
    "치근 치근 치근대다가 잠이 들겠지\n",
    "난 이제 지쳤어요 땡벌\n",
    "기다리다 지쳤어요 땡벌\n",
    "혼자서는 이 밤이 너무너무 추워요\n",
    "\n",
    "당신은 못 말리는 땡벌\n",
    "당신은 날 울리는 땡벌\n",
    "혼자서는 이 밤이 너무너무 길어요\n",
    "아 당신은 야속한 사람\n",
    "아 당신은 모를 사람\n",
    "밉다가도 돌아서면 마음에 걸리는\n",
    "마음 하나는 따뜻한 사람\n",
    "바람에 맴돌다\n",
    "또 맴돌다 어딘가\n",
    "기웃기웃 기웃대다가 잠이 들겠지\n",
    "난 이제 지쳤어요 땡벌\n",
    "기다리다 지쳤어요 땡벌\n",
    "혼자서는 이 밤이 너무너무 추워요\n",
    "\n",
    "당신은 못 말리는 땡벌\n",
    "당신은 날 울리는 땡벌\n",
    "혼자서는 이 밤이 너무너무 길어요\n",
    "당신을 사랑해요 땡벌\n",
    "당신을 좋아해요 땡벌\n",
    "밉지만 당신을 너무너무 사랑해'''"
   ]
  },
  {
   "cell_type": "code",
   "execution_count": 73,
   "id": "d46f22ae",
   "metadata": {},
   "outputs": [],
   "source": [
    "txt3='''어쩜 이렇게 하늘은 더 파란 건지\n",
    "오늘따라 왜 바람은 또 완벽한지\n",
    "그냥 모르는 척 하나 못들은 척\n",
    "지워버린 척 딴 얘길 시작할까\n",
    "아무 말 못하게 입맞출까\n",
    "\n",
    "눈물이 차올라서 고갤 들어\n",
    "흐르지 못하게 또 살짝 웃어\n",
    "내게 왜 이러는지 무슨 말을 하는지\n",
    "오늘 했던 모든 말 저 하늘 위로\n",
    "한번도 못했던 말\n",
    "울면서 할 줄은 나 몰랐던 말\n",
    "나는요 오빠가 좋은걸 어떡해\n",
    "\n",
    "새로 바뀐 내 머리가 별로였는지\n",
    "입고 나왔던 옷이 실수였던 건지\n",
    "아직 모르는 척 기억 안 나는 척\n",
    "아무 일없던 것처럼 굴어볼까\n",
    "그냥 나가자고 얘기할까\n",
    "\n",
    "눈물이 차올라서 고갤 들어\n",
    "흐르지 못하게 또 살짝 웃어\n",
    "내게 왜 이러는지 무슨 말을 하는지\n",
    "오늘 했던 모든 말 저 하늘 위로\n",
    "한번도 못했던 말\n",
    "울면서 할 줄은 나 몰랐던 말\n",
    "나는요 오빠가 좋은걸 (휴~) 어떡해\n",
    "\n",
    "이런 나를 보고 그런 슬픈 말은 하지 말아요\n",
    "철없는 건지 조금 둔한 건지\n",
    "믿을 수가 없는걸요\n",
    "\n",
    "눈물은 나오는데 활짝 웃어\n",
    "네 앞을 막고서 막 크게 웃어\n",
    "내가 왜 이러는지 부끄럼도 없는지\n",
    "자존심은 곱게 접어 하늘위로\n",
    "한 번도 못했던 말\n",
    "어쩌면 다신 못할 바로 그 말\n",
    "나는요 오빠가 좋은걸 (아이쿠, 하나 둘) \n",
    "I'm in my dream\n",
    "\n",
    "It's too beautiful, beautiful day\n",
    "Make it a good day\n",
    "Just don't make me cry\n",
    "\n",
    "이렇게 좋은 날'''"
   ]
  },
  {
   "cell_type": "code",
   "execution_count": 74,
   "id": "c3fbc9b4",
   "metadata": {},
   "outputs": [],
   "source": [
    "txt4='''너 아까 나한테 왜 그랬어\n",
    "너 또 왜 그러는데\n",
    "내가 도대체 어디까지 맞춰야 돼\n",
    "넌 맨날 그런 식이야\n",
    "됐어 나 갈게\n",
    "\n",
    "너는 뛰쳐나가 차 문을 부술듯이 닫으면서\n",
    "난 머리를 쳐박고 한숨 쉬어 핸들을 안으면서\n",
    "이런 광경이 너무 익숙해 이젠\n",
    "웬만한 싸움에는 상처도 잘 안나 이젠\n",
    "명품 쇼핑할 때처럼 너무 깐깐해 니 기준은\n",
    "한번 화나면 뒤끝 장난 아냐\n",
    "적어도 2주는 가니까\n",
    "난 성격이 너무 물러서\n",
    "넌 항상 말해 남자니까 뒤로 좀 물러서\n",
    "부담돼 니가 내게 결혼을 보채는 것도\n",
    "난 달인처럼 대화 화제를 돌리는 법도\n",
    "많이 늘었어\n",
    "넌 항상 추격하고 나는 도망쳐\n",
    "솔직히 말할게 난 아직 준비 안 됐어\n",
    "지쳤어 조금 널 향한 사랑은 도금이\n",
    "벗겨진 반지처럼 빛이 바랬어\n",
    "오늘은 이별을 말해야 될 것 같아\n",
    "지겹거든 너랑 다툴 때마다 항상 하는 말\n",
    "\n",
    "내가 죽일 놈이지 뭐\n",
    "우리가 어긋날 때면\n",
    "전부 내 탓이지 뭐\n",
    "마치 죄인인 것처럼\n",
    "난 한걸음 물러섰어\n",
    "아무 말도 안해\n",
    "완벽한 너한테 난\n",
    "항상 부족한 사람인 걸\n",
    "\n",
    "처음엔 쉬웠어 너와 함께라는 게\n",
    "난 너를 피해 내 자신을 숨기고 또 지웠어\n",
    "사랑에 취해 내게 기대고\n",
    "너란 퍼즐에 날 억지로 맞춰 끼웠어\n",
    "하지만 이제 난 지쳤어\n",
    "니가 만든 내게 난 숨이 막혀 오는데\n",
    "넌 점점 더 내게 바라는게 많아졌어\n",
    "마찰이 잦아졌어\n",
    "니가 사준 구두굽처럼 사랑이 닳아졌어\n",
    "니 잔소리는 넥타이처럼 내 목을 조여서\n",
    "날 얌전하게 만들었지\n",
    "그래서 그게 좋아 보였어\n",
    "그때는 속은 한참 뒤틀리고 꼬였어\n",
    "지금 난 널 만나기 전에 내가 너무 고파\n",
    "이미 우리 사이 권태라는 벽은 너무 높아\n",
    "내가 더 잘할게 잘할게하며 발악했던 나지만\n",
    "오늘은 말할래 이것이 너와 나의 마지막\n",
    "\n",
    "내가 죽일 놈이지 뭐\n",
    "우리가 어긋날 때면\n",
    "전부 내 탓이지 뭐\n",
    "마치 죄인인 것처럼\n",
    "난 한걸음 물러섰어\n",
    "아무 말도 안해\n",
    "완벽한 너한테 난\n",
    "항상 부족한 사람인 걸\n",
    "\n",
    "내가 잘할게\n",
    "내가 잘할게란 말 이젠 두 번 다신 안할게\n",
    "이 말 안할래\n",
    "너를 사랑해란 말 이젠 두 번 다신 안할게\n",
    "내가 잘할게\n",
    "내게 잘해달란 말 이젠 두 번 다신 안할게\n",
    "이 말 안할래\n",
    "그동안 참아왔던 이별을 오늘은 네게 말할래\n",
    "\n",
    "I Don't want say no more\n",
    "내가 죽일 놈이지 뭐\n",
    "우리가 어긋날 때면\n",
    "전부 내 탓이지 뭐\n",
    "마치 죄인인 것처럼\n",
    "난 한걸음 물러섰어\n",
    "아무 말도 안해\n",
    "완벽한 너한텐 난\n",
    "항상 부족한 사람인 걸\n",
    "\n",
    "I Don't want say no more\n",
    "I Don't want say no more'''"
   ]
  },
  {
   "cell_type": "code",
   "execution_count": 75,
   "id": "92bddf6c",
   "metadata": {},
   "outputs": [],
   "source": [
    "txt5='''아무때고 니게 전활해\n",
    "나야 하며 말을 꺼내도\n",
    "누군지 한번에 알아낼\n",
    "너의 단 한 사람\n",
    "쇼윈도에 걸린 셔츠를 보면\n",
    "제일 먼저 니가 떠올릴 사람\n",
    "너의 지갑 속에\n",
    "항상 간직될 사람\n",
    "니게 그런 사람이\n",
    "나 일순 없는지\n",
    "니곁에 있는\n",
    "내 친구가 아니라\n",
    "언젠가 그가 너를\n",
    "맘 아프게 해\n",
    "너 혼자 울고 있는걸 봤어\n",
    "달려가 그에게\n",
    "나 이말 해줬으면\n",
    "그대가 울리는\n",
    "그 한 여자가\n",
    "내겐 삶의 전부라고\n",
    "혼자서는 힘든 슬픔이 오면\n",
    "제일 먼저 니가 찾아 줄 사람\n",
    "너의 생일마다\n",
    "꽃을 안겨 줄 사람\n",
    "니게 그런 사람이\n",
    "나 일순 없는지\n",
    "니곁에 있는\n",
    "내 친구가 아니라\n",
    "언젠가 그가 너를\n",
    "맘 아프게 해\n",
    "너 혼자 울고 있는걸 봤어\n",
    "달려가 그에게\n",
    "나 이말 해줬으면\n",
    "나의 일생을 모두 주어도\n",
    "난 얻지 못하는\n",
    "그녈 가진 그대라고 우\n",
    "그녈 곁에 둔 이유만으로\n",
    "다른 이 세상 누구보다\n",
    "그댄 행복한 거라고\n",
    "언젠가 그가 너를\n",
    "맘 아프게 해\n",
    "너 혼자 울고 있는걸 봤어\n",
    "달려가 그에게\n",
    "나 이말 해줬으면'''"
   ]
  },
  {
   "cell_type": "code",
   "execution_count": 77,
   "id": "11489695",
   "metadata": {},
   "outputs": [
    {
     "name": "stdout",
     "output_type": "stream",
     "text": [
      "['발라드', '댄스', '트로트', '가요', '랩/힙합', '락']\n",
      "예측값 =>  발라드 : [[0.43 0.04 0.   0.35 0.01 0.17]]\n",
      "예측값 =>  댄스 : [[0.   0.96 0.   0.01 0.03 0.  ]]\n",
      "예측값 =>  트로트 : [[0.01 0.   0.9  0.03 0.   0.06]]\n",
      "예측값 =>  발라드 : [[0.88 0.04 0.   0.03 0.   0.05]]\n",
      "예측값 =>  댄스 : [[0.2  0.69 0.   0.09 0.01 0.01]]\n",
      "예측값 =>  락 : [[0.01 0.   0.04 0.02 0.   0.92]]\n"
     ]
    },
    {
     "data": {
      "text/plain": [
       "(None, None, None, None, None, None)"
      ]
     },
     "execution_count": 77,
     "metadata": {},
     "output_type": "execute_result"
    }
   ],
   "source": [
    "import re\n",
    "\n",
    "label=['발라드','댄스','트로트','가요','랩/힙합','락']\n",
    "print(label)\n",
    "\n",
    "def pred(txt):\n",
    "    txt = re.sub('\\n|\\r', ' ', txt)\n",
    "    \n",
    "    # 불용어 제거\n",
    "    wT=[]\n",
    "    word=word_tokenize(txt)\n",
    "    if word not in fireList:\n",
    "        wT.extend(word)\n",
    "    \n",
    "    # 한 문장으로 이어주기\n",
    "    txt=' '.join(wT)\n",
    "\n",
    "    # 문장을 생성된 사전(vaca)를 기반으로 수치화\n",
    "    seq_txt=tokenizer.texts_to_sequences([txt])\n",
    "\n",
    "\n",
    "    # 한 문장의 토큰 수\n",
    "    pre = pad_sequences(seq_txt, maxlen=pad_length)\n",
    "\n",
    "    print(f'예측값 =>  {label[np.round(model.predict(pre, verbose=0), 2).argmax()]} : {np.round(model.predict(pre, verbose=0), 2)}')\n",
    "    \n",
    "pred(txt), pred(txt1), pred(txt2), pred(txt3), pred(txt4), pred(txt5)"
   ]
  },
  {
   "cell_type": "markdown",
   "id": "93fd41a7",
   "metadata": {},
   "source": [
    "### [4-1] 모델 구성"
   ]
  },
  {
   "cell_type": "code",
   "execution_count": 56,
   "id": "1beeaac4",
   "metadata": {},
   "outputs": [],
   "source": [
    "model1 = Sequential()\n",
    "model1.add(Embedding(WORD_NUM, EMB_DIM, input_length=INPUT_LENGTH))\n",
    "model1.add(SimpleRNN(35, return_sequences=True))\n",
    "model1.add(GRU(25, return_sequences=True))\n",
    "model1.add(SimpleRNN(15))\n",
    "model1.add(Dense(10, activation='relu'))\n",
    "model1.add(Dense(6, activation='softmax'))"
   ]
  },
  {
   "cell_type": "markdown",
   "id": "1b7d2551",
   "metadata": {},
   "source": [
    "### [4-2] 모델 생성"
   ]
  },
  {
   "cell_type": "code",
   "execution_count": 57,
   "id": "336ea69e",
   "metadata": {},
   "outputs": [],
   "source": [
    "model1.compile(loss='categorical_crossentropy',\n",
    "               optimizer='adam',\n",
    "               metrics='accuracy')"
   ]
  },
  {
   "cell_type": "markdown",
   "id": "9406aa32",
   "metadata": {},
   "source": [
    "### [4-3] 모델 학습"
   ]
  },
  {
   "cell_type": "code",
   "execution_count": 58,
   "id": "6466066d",
   "metadata": {},
   "outputs": [
    {
     "name": "stdout",
     "output_type": "stream",
     "text": [
      "Epoch 1/20\n",
      "34/34 [==============================] - 12s 245ms/step - loss: 1.6385 - accuracy: 0.3401 - val_loss: 1.5634 - val_accuracy: 0.3932\n",
      "Epoch 2/20\n",
      "34/34 [==============================] - 7s 221ms/step - loss: 1.4589 - accuracy: 0.4385 - val_loss: 1.5100 - val_accuracy: 0.4121\n",
      "Epoch 3/20\n",
      "34/34 [==============================] - 8s 245ms/step - loss: 1.2537 - accuracy: 0.5345 - val_loss: 1.4691 - val_accuracy: 0.4594\n",
      "Epoch 4/20\n",
      "34/34 [==============================] - 9s 266ms/step - loss: 0.9581 - accuracy: 0.7138 - val_loss: 1.4529 - val_accuracy: 0.4896\n",
      "Epoch 5/20\n",
      "34/34 [==============================] - 9s 251ms/step - loss: 0.6635 - accuracy: 0.8302 - val_loss: 1.4879 - val_accuracy: 0.5161\n",
      "Epoch 6/20\n",
      "34/34 [==============================] - 8s 226ms/step - loss: 0.4374 - accuracy: 0.8865 - val_loss: 1.4911 - val_accuracy: 0.5142\n",
      "Epoch 7/20\n",
      "34/34 [==============================] - 7s 218ms/step - loss: 0.2828 - accuracy: 0.9465 - val_loss: 1.5953 - val_accuracy: 0.4877\n",
      "Epoch 8/20\n",
      "34/34 [==============================] - 8s 223ms/step - loss: 0.1896 - accuracy: 0.9778 - val_loss: 1.6201 - val_accuracy: 0.5217\n",
      "Epoch 9/20\n",
      "34/34 [==============================] - 7s 209ms/step - loss: 0.1251 - accuracy: 0.9858 - val_loss: 1.6796 - val_accuracy: 0.5123\n"
     ]
    }
   ],
   "source": [
    "his1 = model1.fit(x_train,\n",
    "                  y_train,\n",
    "                  epochs=20,\n",
    "                  batch_size=64,\n",
    "                  validation_data=(x_val, y_val),\n",
    "                  callbacks=[stopCB])"
   ]
  },
  {
   "cell_type": "code",
   "execution_count": 59,
   "id": "270ecd86",
   "metadata": {},
   "outputs": [
    {
     "data": {
      "image/png": "[encoded data removed]",
      "text/plain": [
       "<Figure size 1080x720 with 2 Axes>"
      ]
     },
     "metadata": {
      "needs_background": "light"
     },
     "output_type": "display_data"
    }
   ],
   "source": [
    "# loss, accuracy 시각화\n",
    "plt.figure(figsize=(15,10))\n",
    "plt.subplot(121)\n",
    "plt.plot(his1.epoch, his1.history['loss'], label='Train loss', linewidth=3)\n",
    "plt.plot(his1.epoch, his1.history['val_loss'], label='Validation loss', color='tomato', linewidth=3)\n",
    "plt.xlabel('epochs', fontsize=20)\n",
    "plt.ylabel('loss', fontsize=20)\n",
    "plt.legend()\n",
    "\n",
    "plt.subplot(122)\n",
    "plt.plot(his1.epoch, his1.history['accuracy'], label='Train accuracy', linewidth=3)\n",
    "plt.plot(his1.epoch, his1.history['val_accuracy'], label='Validation accuracy', color='tomato', linewidth=3)\n",
    "plt.xlabel('epochs', fontsize=20)\n",
    "plt.ylabel('accuracy', fontsize=20)\n",
    "plt.legend()\n",
    "\n",
    "plt.tight_layout()\n",
    "plt.show()"
   ]
  },
  {
   "cell_type": "markdown",
   "id": "f084c09e",
   "metadata": {},
   "source": [
    "### [4-4] 모델 평가"
   ]
  },
  {
   "cell_type": "code",
   "execution_count": 60,
   "id": "f1587d14",
   "metadata": {},
   "outputs": [
    {
     "name": "stdout",
     "output_type": "stream",
     "text": [
      "21/21 [==============================] - 1s 40ms/step - loss: 1.6431 - accuracy: 0.5189\n"
     ]
    },
    {
     "data": {
      "text/plain": [
       "[1.6431421041488647, 0.5189107656478882]"
      ]
     },
     "execution_count": 60,
     "metadata": {},
     "output_type": "execute_result"
    }
   ],
   "source": [
    "model1.evaluate(x_test, y_test)"
   ]
  },
  {
   "cell_type": "markdown",
   "id": "f1a558ea",
   "metadata": {},
   "source": [
    "### [4-5] 예측"
   ]
  },
  {
   "cell_type": "code",
   "execution_count": 78,
   "id": "9920c0b9",
   "metadata": {},
   "outputs": [
    {
     "name": "stdout",
     "output_type": "stream",
     "text": [
      "['발라드', '댄스', '트로트', '가요', '랩/힙합', '락']\n",
      "예측값 =>  발라드 : [[0.88 0.03 0.01 0.05 0.03 0.  ]]\n",
      "예측값 =>  댄스 : [[0.   0.95 0.   0.   0.04 0.  ]]\n",
      "예측값 =>  트로트 : [[0.08 0.   0.83 0.08 0.   0.01]]\n",
      "예측값 =>  댄스 : [[0.01 0.56 0.01 0.02 0.39 0.02]]\n",
      "예측값 =>  랩/힙합 : [[0.01 0.03 0.   0.07 0.53 0.35]]\n",
      "예측값 =>  락 : [[0.   0.   0.   0.03 0.05 0.92]]\n"
     ]
    },
    {
     "data": {
      "text/plain": [
       "(None, None, None, None, None, None)"
      ]
     },
     "execution_count": 78,
     "metadata": {},
     "output_type": "execute_result"
    }
   ],
   "source": [
    "import re\n",
    "\n",
    "label=['발라드','댄스','트로트','가요','랩/힙합','락']\n",
    "\n",
    "print(label)\n",
    "\n",
    "def pred1(txt):\n",
    "    txt = re.sub('\\n|\\r', ' ', txt)\n",
    "    \n",
    "    # 불용어 제거\n",
    "    wT=[]\n",
    "    word=word_tokenize(txt)\n",
    "    if word not in fireList:\n",
    "        wT.extend(word)\n",
    "    \n",
    "    # 한 문장으로 이어주기\n",
    "    txt=' '.join(wT)\n",
    "\n",
    "    # 문장을 생성된 사전(vaca)를 기반으로 수치화\n",
    "    seq_txt=tokenizer.texts_to_sequences([txt])\n",
    "\n",
    "\n",
    "    # 한 문장의 토큰 수\n",
    "    pre = pad_sequences(seq_txt, maxlen=pad_length)\n",
    "\n",
    "    print(f'예측값 =>  {label[np.round(model1.predict(pre, verbose=0), 2).argmax()]} : {np.round(model1.predict(pre, verbose=0), 2)}')\n",
    "    \n",
    "pred1(txt), pred1(txt1), pred1(txt2), pred1(txt3), pred1(txt4), pred1(txt5)"
   ]
  }
 ],
 "metadata": {
  "kernelspec": {
   "display_name": "Python 3 (ipykernel)",
   "language": "python",
   "name": "python3"
  },
  "language_info": {
   "codemirror_mode": {
    "name": "ipython",
    "version": 3
   },
   "file_extension": ".py",
   "mimetype": "text/x-python",
   "name": "python",
   "nbconvert_exporter": "python",
   "pygments_lexer": "ipython3",
   "version": "3.9.12"
  }
 },
 "nbformat": 4,
 "nbformat_minor": 5
}
