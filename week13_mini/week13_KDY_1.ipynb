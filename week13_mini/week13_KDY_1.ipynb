{
 "cells": [
  {
   "cell_type": "markdown",
   "id": "47c53c07",
   "metadata": {},
   "source": [
    "# 가사 web_crawling"
   ]
  },
  {
   "cell_type": "markdown",
   "id": "0e8c14bf",
   "metadata": {},
   "source": [
    "## 장르"
   ]
  },
  {
   "cell_type": "code",
   "execution_count": 1,
   "id": "cd6aed0f",
   "metadata": {},
   "outputs": [],
   "source": [
    "# 모듈 로딩\n",
    "from urllib.request import urlopen\n",
    "from bs4 import BeautifulSoup\n",
    "import requests\n",
    "import pandas as pd\n",
    "\n",
    "\n",
    "year_song = list()  # 가사 담을 리스트\n",
    "year_gene = list()  # 장르 담을 리스트\n",
    "headers = {'User-Agent' : 'Mozilla/5.0 (Windows NT 10.0; Win64; x64) AppleWebKit/537.36 (KHTML, like Gecko) Chrome/98.0.4758.102 Safari/537.36'}\n",
    "for i in range(1970,2022):\n",
    "  \n",
    "    url= f'https://www.genie.co.kr/chart/musicHistory?year='+str(i)+'&category=0'\n",
    "    html = requests.get(url,headers=headers)\n",
    "    soup = BeautifulSoup(html.text, 'html.parser')\n",
    "    div = soup.find('div', {'id':'wrap-body'})\n",
    "    div_input = div.find('input', {'id':'sAllSongID'})\n",
    "    div_input_value = div_input['value']\n",
    "    url_list = div_input_value.split(';')  # 노래의 주소 담기\n",
    "\n",
    "    for k in url_list[:-1]:  # 노래의 가사 담기\n",
    "        url1 = f'https://www.genie.co.kr/detail/songInfo?xgnm='+str(k)\n",
    "        html1 = requests.get(url1,headers=headers)\n",
    "        soup1 = BeautifulSoup(html1.text, 'html.parser')\n",
    "        div1 = soup1.find('div',{'class':'tit-box'})\n",
    "        ul1 = soup1.find('ul',{'class':'info-data'})\n",
    "        span2 = ul1.find_all('span',{'class':'value'})[2].text\n",
    "        div_p1 = div1.find('p').text\n",
    "        \n",
    "        year_gene.append('/'.join(span2.split('/ ')[1:]))\n",
    "        year_song.append(div_p1)\n"
   ]
  },
  {
   "cell_type": "code",
   "execution_count": 2,
   "id": "6cca2f74",
   "metadata": {},
   "outputs": [],
   "source": [
    "# 데이터프레임으로 만들기\n",
    "df = pd.DataFrame([year_song, year_gene])\n",
    "df = df.T"
   ]
  },
  {
   "cell_type": "code",
   "execution_count": 3,
   "id": "6413bc96",
   "metadata": {},
   "outputs": [],
   "source": [
    "# 가사에서 띄어쓰기 제거\n",
    "import re\n",
    "\n",
    "for idx in df[0].index:\n",
    "    df.iloc[idx, 0] = re.sub('\\n|\\r', ' ', df.iloc[idx, 0])"
   ]
  },
  {
   "cell_type": "code",
   "execution_count": 4,
   "id": "4916fd42",
   "metadata": {
    "scrolled": true
   },
   "outputs": [],
   "source": [
    "df.to_csv('gasa.csv', index=False)"
   ]
  }
 ],
 "metadata": {
  "kernelspec": {
   "display_name": "Python 3 (ipykernel)",
   "language": "python",
   "name": "python3"
  },
  "language_info": {
   "codemirror_mode": {
    "name": "ipython",
    "version": 3
   },
   "file_extension": ".py",
   "mimetype": "text/x-python",
   "name": "python",
   "nbconvert_exporter": "python",
   "pygments_lexer": "ipython3",
   "version": "3.9.12"
  }
 },
 "nbformat": 4,
 "nbformat_minor": 5
}
